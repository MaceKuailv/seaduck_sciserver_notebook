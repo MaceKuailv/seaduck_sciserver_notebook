{
 "cells": [
  {
   "cell_type": "markdown",
   "metadata": {
    "tags": []
   },
   "source": [
    "# Plot surface streamlines on LLC4320\n",
    "\n",
    "Author: Wenrui Jiang 14 June, 2023\n",
    "\n",
    "The LLC4320 ocean circulation model solution is a kilometer-scale, global simulation with complex grid topology. This is a good dataset to test the performance of the `seaduck` package."
   ]
  },
  {
   "cell_type": "code",
   "execution_count": null,
   "metadata": {
    "tags": []
   },
   "outputs": [],
   "source": [
    "import matplotlib.pyplot as plt\n",
    "import cartopy.crs as ccrs\n",
    "from tqdm import tqdm\n",
    "import numpy as np\n",
    "from matplotlib.collections import LineCollection\n",
    "import matplotlib as mpl\n",
    "import oceanspy as ospy\n",
    "\n",
    "import seaduck as sd\n",
    "\n",
    "mpl.rcParams[\"figure.dpi\"] = 600"
   ]
  },
  {
   "cell_type": "markdown",
   "metadata": {},
   "source": [
    "```{admonition} Access LLC4320\n",
    "The global MITgcm run is the LLC4320 simulation and is publicly available on [SciServer](sciserver.org) (from the Oceanography container). The simulation output can be opened using the [OceanSpy](https://github.com/hainegroup/oceanspyhttps://github.com/hainegroup/oceanspy) package using the [`from_catalog`](https://oceanspy.readthedocs.io/en/latest/generated/oceanspy.open_oceandataset.from_catalog.html#oceanspy.open_oceandataset.from_catalog) method. \n",
    "\n",
    "`od = ospy.open_oceandataset.from_catalog(\"LLC4320\")`\n",
    "\n",
    "Click [here](https://dev-poseidon-ocean.pantheonsite.io/products/datasets/) for a full list of the SciServer datasets.\n",
    "```"
   ]
  },
  {
   "cell_type": "markdown",
   "metadata": {},
   "source": [
    "## Calculate the streamlines online\n",
    "\n",
    "First we get the dataset into `OceData` object with help from `OceanSpy`. This step requires the grid to be loaded into memory as `numpy` arrays and then create the cKD tree on top of that, so it's going to take some time."
   ]
  },
  {
   "cell_type": "code",
   "execution_count": null,
   "metadata": {
    "tags": []
   },
   "outputs": [],
   "source": [
    "od = ospy.open_oceandataset.from_catalog(\"LLC4320\")\n",
    "ds = od._ds\n",
    "oce = sd.OceData(ds)"
   ]
  },
  {
   "cell_type": "markdown",
   "metadata": {},
   "source": [
    "Initiate the particles randomly, so that they're distributed evenly on the globe. Use `N` = $1.5 \\\\times 10^5$ particles."
   ]
  },
  {
   "cell_type": "code",
   "execution_count": null,
   "metadata": {
    "tags": [
     "hide-input"
    ]
   },
   "outputs": [],
   "source": [
    "N = int(1.5e5)\n",
    "np.random.seed(4320)\n",
    "xx, yy, zz = [np.random.normal(size=N) for i in range(3)]\n",
    "r = np.sqrt(xx**2 + yy**2 + zz**2)\n",
    "y = (np.pi / 2 - np.arccos(zz / r)) * 180 / np.pi\n",
    "x = np.arctan2(yy, xx) * 180 / np.pi\n",
    "x = x[y > -80]\n",
    "y = y[y > -80]\n",
    "z = np.ones_like(x) * (-10.0)\n",
    "t = np.ones_like(x) * 10.0\n",
    "\n",
    "ax = plt.axes(\n",
    "    projection=ccrs.Orthographic(central_longitude=-20.0, central_latitude=45.0)\n",
    ")\n",
    "ax.plot(x, y, \"o\", markersize=0.1, transform=ccrs.PlateCarree())\n",
    "ax.coastlines()\n",
    "plt.show()"
   ]
  },
  {
   "cell_type": "markdown",
   "metadata": {},
   "source": [
    "We'll use just one vertical layer (the first one, which is at the surface) of a single snapshot (the first one) to make the streamlines."
   ]
  },
  {
   "cell_type": "code",
   "execution_count": null,
   "metadata": {
    "tags": []
   },
   "outputs": [],
   "source": [
    "oce[\"u\"] = oce[\"U\"][0, 0]\n",
    "oce[\"v\"] = oce[\"V\"][0, 0]"
   ]
  },
  {
   "cell_type": "markdown",
   "metadata": {},
   "source": [
    "By setting `wname = None`, we fix particles to move on a horizontal surface. Think of isobaric floats."
   ]
  },
  {
   "cell_type": "code",
   "execution_count": null,
   "metadata": {
    "tags": []
   },
   "outputs": [],
   "source": [
    "%%time\n",
    "p = sd.Particle(\n",
    "    x=x,\n",
    "    y=y,\n",
    "    z=z,\n",
    "    t=t,\n",
    "    data=oce,\n",
    "    uname=\"u\",\n",
    "    vname=\"v\",\n",
    "    wname=None,\n",
    ")"
   ]
  },
  {
   "cell_type": "markdown",
   "metadata": {},
   "source": [
    "The package knows that LLC4320 is a large dataset, so by default it doesn't prefetch data. Otherwise, `seaduck` is overwhelmed. In general, this is a smart thing to do.\n",
    "\n",
    "However, since we are using a static 2D velocity field here, which is much smaller than the 3D time-varying field, we actually have enough memory to prefetch. So tell `seaduck` this bit of LLC4320 isn't overwhelmingly big:"
   ]
  },
  {
   "cell_type": "code",
   "execution_count": null,
   "metadata": {
    "tags": []
   },
   "outputs": [],
   "source": [
    "p.too_large = False"
   ]
  },
  {
   "cell_type": "code",
   "execution_count": null,
   "metadata": {
    "tags": []
   },
   "outputs": [],
   "source": [
    "p.uarray = np.array(oce[\"u\"])\n",
    "p.varray = np.array(oce[\"v\"])"
   ]
  },
  {
   "cell_type": "markdown",
   "metadata": {},
   "source": [
    "Everything went well. Now, we are going to compute trajectories with a 3 hour timestep for 30 days. This will take a while: time for a nap..."
   ]
  },
  {
   "cell_type": "code",
   "execution_count": null,
   "metadata": {
    "tags": []
   },
   "outputs": [],
   "source": [
    "step = 10800\n",
    "N = 240\n",
    "dest = [n * step for n in range(1, N)]"
   ]
  },
  {
   "cell_type": "code",
   "execution_count": null,
   "metadata": {
    "tags": []
   },
   "outputs": [],
   "source": [
    "%%time\n",
    "stops, raw = p.to_list_of_time(dest, update_stops=[])"
   ]
  },
  {
   "cell_type": "markdown",
   "metadata": {
    "tags": [
     "mdformat-skip"
    ]
   },
   "source": [
    "It took around 1.5 hours to run a month of simulation for $1.5\\times 10^{5}$ particles. We can now extract the things we need to plot, namely longitude, latitude, and horizontal speed."
   ]
  },
  {
   "cell_type": "code",
   "execution_count": null,
   "metadata": {
    "tags": []
   },
   "outputs": [],
   "source": [
    "lons = np.array([i.lon for i in raw])\n",
    "lats = np.array([i.lat for i in raw])\n",
    "spds = np.array([np.hypot(i.u * i.dx, i.v * i.dy) for i in raw])"
   ]
  },
  {
   "cell_type": "markdown",
   "metadata": {},
   "source": [
    "If you would like to save the data for plotting, you can change the following raw block to code block and run it."
   ]
  },
  {
   "cell_type": "raw",
   "metadata": {
    "execution": {
     "iopub.status.busy": "2023-06-14T20:51:44.748983Z",
     "iopub.status.idle": "2023-06-14T20:51:44.749788Z",
     "shell.execute_reply": "2023-06-14T20:51:44.749383Z",
     "shell.execute_reply.started": "2023-06-14T20:51:44.749339Z"
    },
    "tags": []
   },
   "source": [
    "np.save('LLC4320lons.npy',lons)\n",
    "np.save('LLC4320lats.npy',lats)\n",
    "np.save('LLC4320spds.npy',spds)"
   ]
  },
  {
   "cell_type": "markdown",
   "metadata": {},
   "source": [
    "If the location and speed is already pre-computed, they can be loaded by:"
   ]
  },
  {
   "cell_type": "raw",
   "metadata": {
    "execution": {
     "iopub.execute_input": "2022-11-14T03:08:15.702044Z",
     "iopub.status.busy": "2022-11-14T03:08:15.700882Z",
     "iopub.status.idle": "2022-11-14T03:08:34.730720Z",
     "shell.execute_reply": "2022-11-14T03:08:34.704903Z",
     "shell.execute_reply.started": "2022-11-14T03:08:15.701953Z"
    },
    "tags": []
   },
   "source": [
    "lons = np.load('LLC4320lons.npy')\n",
    "lats = np.load('LLC4320lats.npy')\n",
    "spds = np.load('LLC4320spds.npy')"
   ]
  },
  {
   "cell_type": "markdown",
   "metadata": {},
   "source": [
    "## Plotting Preparation\n",
    "\n",
    "The [ETOPO](https://www.ncei.noaa.gov/products/etopo-global-relief-model) topography dataset is also accessible on SciServer using `OceanSpy`. This will give us absolutely beautiful plots."
   ]
  },
  {
   "cell_type": "code",
   "execution_count": null,
   "metadata": {
    "tags": []
   },
   "outputs": [],
   "source": [
    "etopo = ospy.open_oceandataset.from_catalog(\"ETOPO\")"
   ]
  },
  {
   "cell_type": "markdown",
   "metadata": {},
   "source": [
    "For this notebook, we only need the land, because there is already so much going on in the water. So clip the `etopo` data."
   ]
  },
  {
   "cell_type": "code",
   "execution_count": null,
   "metadata": {
    "tags": []
   },
   "outputs": [],
   "source": [
    "etopo = etopo._ds.where(etopo._ds.Depth > 0)"
   ]
  },
  {
   "cell_type": "markdown",
   "metadata": {},
   "source": [
    "Here is the function for plotting. The lines will be colored with speed. This part is going to take some time, but I hope you think it's worth the wait."
   ]
  },
  {
   "cell_type": "code",
   "execution_count": null,
   "metadata": {
    "tags": []
   },
   "outputs": [],
   "source": [
    "def pretty_stream_plot(\n",
    "    lats,\n",
    "    lons,\n",
    "    spds,\n",
    "    projection,\n",
    "    particle_bins=1,\n",
    "    bins=5,\n",
    "    north=1000,\n",
    "    south=-1000,\n",
    "    plot_lines=True,\n",
    "    save_as=None,\n",
    "):\n",
    "    plt.figure(figsize=(16, 16))\n",
    "    axs = plt.axes(projection=projection)\n",
    "    axs.set_extent([-1e4, 1e4, south, north], crs=ccrs.PlateCarree())\n",
    "    plt.tight_layout()\n",
    "    axs.pcolormesh(\n",
    "        etopo.X[::bins],\n",
    "        etopo.Y[::bins],\n",
    "        etopo.Depth[::bins, ::bins],\n",
    "        transform=ccrs.PlateCarree(),\n",
    "        cmap=\"bone\",\n",
    "        vmin=-3000,\n",
    "        vmax=4500,\n",
    "        zorder=20,\n",
    "    )\n",
    "    axs.set_facecolor(\"lightsteelblue\")\n",
    "    print(\"finished making the map\")\n",
    "    if not plot_lines:\n",
    "        print(\"skipping the lines\")\n",
    "        return\n",
    "    # To speed up the computation, we transform the\n",
    "    # latlon outside the for plotting for-loop.\n",
    "    xx, yy, _ = projection.transform_points(ccrs.PlateCarree(), lons, lats).T\n",
    "\n",
    "    xx = xx.T\n",
    "    yy = yy.T\n",
    "\n",
    "    for i in tqdm(range(0, lons.shape[1], particle_bins)):\n",
    "        y = yy.T[i][1:]\n",
    "        x = xx.T[i][1:]\n",
    "        if np.max(x) - np.min(x) > 300:\n",
    "            x[x < 0] += 360\n",
    "        dydx = (0.5 * (spds.T[i][:-1] + spds.T[i][1:]))[1:]  # first derivative\n",
    "\n",
    "        # Create a set of line segments so that we can color them individually\n",
    "        # This creates the points as a N x 1 x 2 array so that we can stack points\n",
    "        # together easily to get the segments. The segments array for line collection\n",
    "        # needs to be (numlines) x (points per line) x 2 (for x and y)\n",
    "        points = np.array([x, y]).T.reshape(-1, 1, 2)\n",
    "\n",
    "        segments = np.concatenate([points[:-1], points[1:]], axis=1)\n",
    "\n",
    "        # Create a continuous norm to map from data points to colors\n",
    "        norm = plt.Normalize(0, 1.0)\n",
    "        lc = LineCollection(segments, cmap=\"GnBu_r\", norm=norm)\n",
    "        # Set the values used for colormapping\n",
    "        lc.set_array(dydx)\n",
    "        lc.set_linewidth(0.3)\n",
    "        axs.add_collection(lc)\n",
    "\n",
    "    if save_as is not None:\n",
    "        plt.savefig(save_as)"
   ]
  },
  {
   "cell_type": "markdown",
   "metadata": {},
   "source": [
    "## Voila!\n",
    "\n",
    "### Looking from the Arctic"
   ]
  },
  {
   "cell_type": "code",
   "execution_count": null,
   "metadata": {
    "tags": []
   },
   "outputs": [],
   "source": [
    "north_projection = ccrs.NorthPolarStereo(central_longitude=38.0)\n",
    "pretty_stream_plot(\n",
    "    lats,\n",
    "    lons,\n",
    "    spds,\n",
    "    north_projection,\n",
    "    south=6.5,\n",
    "    save_as=\"LLC4320_files/LLC4320_29_2.png\",\n",
    ")\n",
    "plt.show()"
   ]
  },
  {
   "cell_type": "markdown",
   "metadata": {},
   "source": [
    "**Fig.1** Streamlines of 150,000 particles released at 00:00 Apr 25, 2012 in LLC4320 simulated for 30 days. The color shading shows the current speed. This is looking from the North Pole."
   ]
  },
  {
   "cell_type": "markdown",
   "metadata": {
    "tags": []
   },
   "source": [
    "### Looking from the Antarctic"
   ]
  },
  {
   "cell_type": "code",
   "execution_count": null,
   "metadata": {
    "tags": []
   },
   "outputs": [],
   "source": [
    "south_projection = ccrs.SouthPolarStereo(central_longitude=38.0)\n",
    "pretty_stream_plot(\n",
    "    lats,\n",
    "    lons,\n",
    "    spds,\n",
    "    south_projection,\n",
    "    north=-6.5,\n",
    "    save_as=\"LLC4320_files/LLC4320_32_2.png\",\n",
    ")\n",
    "plt.show()"
   ]
  },
  {
   "cell_type": "markdown",
   "metadata": {},
   "source": [
    "**Fig.2** Similar to **Fig.1**, but looking from the South Pole."
   ]
  }
 ],
 "metadata": {
  "kernelspec": {
   "display_name": "Python 3.8 (py38)",
   "language": "python",
   "name": "py38"
  },
  "language_info": {
   "codemirror_mode": {
    "name": "ipython",
    "version": 3
   },
   "file_extension": ".py",
   "mimetype": "text/x-python",
   "name": "python",
   "nbconvert_exporter": "python",
   "pygments_lexer": "ipython3",
   "version": "3.8.5"
  }
 },
 "nbformat": 4,
 "nbformat_minor": 4
}
